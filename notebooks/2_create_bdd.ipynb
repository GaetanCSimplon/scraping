{
 "cells": [
  {
   "cell_type": "markdown",
   "id": "5c38e090",
   "metadata": {},
   "source": [
    "# Traitement et stockage des données issues du scraping\n",
    "\n",
    "Vous avez scrapé les données du site de livres et les avez stockées dans un fichier. \n",
    "\n",
    "L'objectif de ce notebook est de créer une base de données pour y stocker ces données."
   ]
  },
  {
   "cell_type": "code",
   "execution_count": 107,
   "id": "fc007873",
   "metadata": {},
   "outputs": [],
   "source": [
    "import sqlite3\n",
    "import pandas as pd"
   ]
  },
  {
   "cell_type": "markdown",
   "id": "dd34cc58",
   "metadata": {},
   "source": [
    "Lire les données du fichier sauvegardé en utilisant pandas."
   ]
  },
  {
   "cell_type": "code",
   "execution_count": 108,
   "id": "8aa4b567",
   "metadata": {},
   "outputs": [
    {
     "name": "stdout",
     "output_type": "stream",
     "text": [
      "                                                 title    price rating  \\\n",
      "0                                 A Light in the Attic  Â£51.77  Three   \n",
      "1                                   Tipping the Velvet  Â£53.74    One   \n",
      "2                                           Soumission  Â£50.10    One   \n",
      "3                                        Sharp Objects  Â£47.82   Four   \n",
      "4                Sapiens: A Brief History of Humankind  Â£54.23   Five   \n",
      "..                                                 ...      ...    ...   \n",
      "995  Alice in Wonderland (Alice's Adventures in Won...  Â£55.53    One   \n",
      "996   Ajin: Demi-Human, Volume 1 (Ajin: Demi-Human #1)  Â£57.06   Four   \n",
      "997  A Spy's Devotion (The Regency Spies of London #1)  Â£16.97   Five   \n",
      "998                1st to Die (Women's Murder Club #1)  Â£53.98    One   \n",
      "999                 1,000 Places to See Before You Die  Â£26.08   Five   \n",
      "\n",
      "    availability  \n",
      "0       In stock  \n",
      "1       In stock  \n",
      "2       In stock  \n",
      "3       In stock  \n",
      "4       In stock  \n",
      "..           ...  \n",
      "995     In stock  \n",
      "996     In stock  \n",
      "997     In stock  \n",
      "998     In stock  \n",
      "999     In stock  \n",
      "\n",
      "[1000 rows x 4 columns]\n"
     ]
    }
   ],
   "source": [
    "# Lire les données du fichier que vous venez d'enregistrer\n",
    "df_books = pd.read_csv('books_infos.csv')\n",
    "print(df_books)"
   ]
  },
  {
   "cell_type": "markdown",
   "id": "56d48fb1",
   "metadata": {},
   "source": [
    "## 1. Prétraitement des données\n",
    "\n",
    "On souhaite créer la table _book_ contenant les attributs suivants : \n",
    "- id : INT, PK,\n",
    "- title : TEXT,\n",
    "- price : DECIMAL\n",
    "- availability : BOOLEAN\n",
    "- rating : INT [0:5]\n",
    "\n",
    "Vérifier les types des colonnes du dataframe."
   ]
  },
  {
   "cell_type": "code",
   "execution_count": 109,
   "id": "0505d094",
   "metadata": {},
   "outputs": [
    {
     "data": {
      "application/vnd.microsoft.datawrangler.viewer.v0+json": {
       "columns": [
        {
         "name": "index",
         "rawType": "object",
         "type": "string"
        },
        {
         "name": "0",
         "rawType": "object",
         "type": "unknown"
        }
       ],
       "ref": "f378fa9e-a66e-4d35-82b2-87f7209312ec",
       "rows": [
        [
         "title",
         "object"
        ],
        [
         "price",
         "object"
        ],
        [
         "rating",
         "object"
        ],
        [
         "availability",
         "object"
        ]
       ],
       "shape": {
        "columns": 1,
        "rows": 4
       }
      },
      "text/plain": [
       "title           object\n",
       "price           object\n",
       "rating          object\n",
       "availability    object\n",
       "dtype: object"
      ]
     },
     "execution_count": 109,
     "metadata": {},
     "output_type": "execute_result"
    }
   ],
   "source": [
    "# Vérification des types de données\n",
    "df_books.dtypes"
   ]
  },
  {
   "cell_type": "markdown",
   "id": "1be2df09",
   "metadata": {},
   "source": [
    "Dans les cellules qui suivent, des méthodes de traitement de données sont suggérées pour donner un aperçu de ce qu'il est possible de faire avec pandas.\n",
    "\n",
    "**Il est tout à fait possible de faire autrement.**\n",
    "\n",
    "Utiliser la méthode pandas [_astype_](https://pandas.pydata.org/pandas-docs/stable/reference/api/pandas.DataFrame.astype.html) pour convertir la colonne de titre en chaîne de caractère."
   ]
  },
  {
   "cell_type": "code",
   "execution_count": 110,
   "id": "10f0638f",
   "metadata": {},
   "outputs": [
    {
     "name": "stdout",
     "output_type": "stream",
     "text": [
      "object\n"
     ]
    }
   ],
   "source": [
    "# Conversion de title en chaîne de caractères\n",
    "df_books[\"title\"] = df_books[\"title\"].astype(str)\n",
    "\n",
    "# Vérification du type de la colonne title\n",
    "print(df_books[\"title\"].dtype)"
   ]
  },
  {
   "cell_type": "markdown",
   "id": "e4e6b924",
   "metadata": {},
   "source": [
    "Pour convertir la colonne de prix en nombre décimal, il est nécessaire d'utiliser une étape intermédiaire pour retirer le caractère \"£\".\n",
    "\n",
    "Il est possible par exemple d'utiliser l'attribut [.str](https://pandas.pydata.org/pandas-docs/stable/reference/api/pandas.Series.str.html) de la série \"price\"."
   ]
  },
  {
   "cell_type": "code",
   "execution_count": 111,
   "id": "5e6bd8ce",
   "metadata": {},
   "outputs": [
    {
     "name": "stdout",
     "output_type": "stream",
     "text": [
      "object\n",
      "0      51.77\n",
      "1      53.74\n",
      "2      50.10\n",
      "3      47.82\n",
      "4      54.23\n",
      "       ...  \n",
      "995    55.53\n",
      "996    57.06\n",
      "997    16.97\n",
      "998    53.98\n",
      "999    26.08\n",
      "Name: price, Length: 1000, dtype: object\n"
     ]
    }
   ],
   "source": [
    "# Convertir la colonne price en type décimal\n",
    "df_books[\"price\"] = df_books[\"price\"].str.replace('£', \"\")\n",
    "df_books[\"price\"] = df_books[\"price\"].str.replace('Â', \"\")\n",
    "df_books[\"price\"] = df_books[\"price\"].str.strip()\n",
    "\n",
    "# Vérification du type de la colonne price\n",
    "print(df_books[\"price\"].dtype)\n",
    "print(df_books['price'])"
   ]
  },
  {
   "cell_type": "markdown",
   "id": "a537478f",
   "metadata": {},
   "source": [
    "Convertir la colonne `availability` en boolen (True/False).\n",
    "\n",
    "Quelles sont les valeurs possibles pour la colonne availability ?"
   ]
  },
  {
   "cell_type": "code",
   "execution_count": 112,
   "id": "fbadd4ca",
   "metadata": {},
   "outputs": [
    {
     "name": "stdout",
     "output_type": "stream",
     "text": [
      "0      In stock\n",
      "1      In stock\n",
      "2      In stock\n",
      "3      In stock\n",
      "4      In stock\n",
      "         ...   \n",
      "995    In stock\n",
      "996    In stock\n",
      "997    In stock\n",
      "998    In stock\n",
      "999    In stock\n",
      "Name: availability, Length: 1000, dtype: object\n"
     ]
    }
   ],
   "source": [
    "# Valeurs possibles de la colonne availability\n",
    "#  'In stock'\n",
    "\n",
    "\n",
    "print(df_books['availability'])\n"
   ]
  },
  {
   "cell_type": "markdown",
   "id": "6c12b18a",
   "metadata": {},
   "source": [
    "Créer une fonction qui prend en entrée la valeur de `availability` et qui renvoie True ou False en fonction de la valeur d'entrée."
   ]
  },
  {
   "cell_type": "code",
   "execution_count": 113,
   "id": "679627d6",
   "metadata": {},
   "outputs": [],
   "source": [
    "# Fonction pour convertir la valeur de availability en booléen\n",
    "def convert_availability(value : str) -> bool:\n",
    "    \"\"\"Convert the availability value to a boolean.\n",
    "\n",
    "    Args:\n",
    "        value (str): The availability status of the book.\n",
    "\n",
    "    Returns:\n",
    "        bool: True if the book is available, False otherwise.\n",
    "    \"\"\"\n",
    "    if value == 'In stock':\n",
    "        return True\n",
    "    else:\n",
    "        return False\n",
    "\n",
    " \n",
    "    "
   ]
  },
  {
   "cell_type": "markdown",
   "id": "0dad009f",
   "metadata": {},
   "source": [
    "Utiliser la méthode [`apply`](https://pandas.pydata.org/pandas-docs/stable/reference/api/pandas.DataFrame.apply.html) pour appliquer la fonction à la colonne `availability`."
   ]
  },
  {
   "cell_type": "code",
   "execution_count": 114,
   "id": "3de7ec67",
   "metadata": {},
   "outputs": [
    {
     "name": "stdout",
     "output_type": "stream",
     "text": [
      "bool\n"
     ]
    }
   ],
   "source": [
    "# Convertir la colonne availability en booléen (True/False)\n",
    "df_books[\"availability\"] = df_books['availability'].apply(convert_availability)\n",
    "\n",
    "# Vérification du type de la colonne availability\n",
    "print(df_books[\"availability\"].dtype)"
   ]
  },
  {
   "cell_type": "markdown",
   "id": "fd9877d9",
   "metadata": {},
   "source": [
    "Convertir la colonne _rating_ en chiffre en utilisant un dictionnaire `rating_map` et la méthode [_map_](https://pandas.pydata.org/pandas-docs/stable/reference/api/pandas.Series.map.html)."
   ]
  },
  {
   "cell_type": "code",
   "execution_count": 115,
   "id": "0d95564c",
   "metadata": {},
   "outputs": [
    {
     "name": "stdout",
     "output_type": "stream",
     "text": [
      "int64\n"
     ]
    }
   ],
   "source": [
    "# Dictionnaire associant les notes au format initial et les valeurs numérique\n",
    "ratings_map = {\n",
    "    'Zero': 0,\n",
    "    'One': 1,\n",
    "    'Two': 2,\n",
    "    'Three': 3,\n",
    "    'Four': 4,\n",
    "    'Five': 5\n",
    "}\n",
    "\n",
    "df_books[\"rating\"] = df_books[\"rating\"].map(ratings_map)\n",
    "\n",
    "# Vérification du type de la colonne rating\n",
    "print(df_books[\"rating\"].dtype)"
   ]
  },
  {
   "cell_type": "code",
   "execution_count": 116,
   "id": "69770cdf",
   "metadata": {},
   "outputs": [
    {
     "name": "stdout",
     "output_type": "stream",
     "text": [
      "title           object\n",
      "price           object\n",
      "rating           int64\n",
      "availability      bool\n",
      "dtype: object\n"
     ]
    }
   ],
   "source": [
    "# Créer une fonction convert_types qui combine les traitements faits dans les cellules précédentes\n",
    "def convert_types(df_books: pd.DataFrame) -> pd.DataFrame:\n",
    "    \"\"\"Convert the types of the DataFrame columns to appropriate types.\n",
    "\n",
    "    Args:\n",
    "        df_books (pd.DataFrame): The DataFrame containing book data.\n",
    "\n",
    "    Returns:\n",
    "        pd.DataFrame: The DataFrame with converted types.\n",
    "    \"\"\"\n",
    "    \n",
    "    # Convertir en str\n",
    "    df_books[\"title\"] = df_books[\"title\"].astype(str)\n",
    "\n",
    "    # Nettoyer les prix (enlever le symbole £ et les caractères parasites) puis convertir en float\n",
    "    df_books[\"price\"] = df_books[\"price\"].str.replace('£', \"\", regex=False)\n",
    "    df_books[\"price\"] = df_books[\"price\"].str.replace('Â', \"\", regex=False)\n",
    "    df_books[\"price\"] = df_books[\"price\"].str.strip()\n",
    "    df_books[\"price\"] = pd.to_numeric(df_books[\"price\"], errors=\"coerce\")\n",
    "    df_books[\"price\"] = df_books[\"price\"].astype(float)\n",
    "    \n",
    "    # Convertir la disponibilité en booléen\n",
    "    df_books[\"availability\"] = df_books[\"availability\"].apply(convert_availability)\n",
    "\n",
    "    # Mapper les notes en chiffres\n",
    "    ratings_map = {\n",
    "        'Zero': 0,\n",
    "        'One': 1,\n",
    "        'Two': 2,\n",
    "        'Three': 3,\n",
    "        'Four': 4,\n",
    "        'Five': 5\n",
    "    }\n",
    "    df_books[\"rating\"] = df_books[\"rating\"].map(ratings_map)\n",
    "\n",
    "    \n",
    "\n",
    "    return df_books\n",
    "\n",
    "print(df_books.dtypes) # verif\n"
   ]
  },
  {
   "cell_type": "code",
   "execution_count": 117,
   "id": "2783f740",
   "metadata": {},
   "outputs": [],
   "source": [
    "df_books = pd.read_csv('books_infos.csv')\n",
    "convert_types(df_books)\n",
    "df_books.to_csv(\"book_infos_cleaned.csv\", index=False)"
   ]
  },
  {
   "cell_type": "markdown",
   "id": "b946ba92",
   "metadata": {},
   "source": [
    "---\n",
    "## 2. Insertion des données en base\n",
    "\n",
    "Dans cette section :\n",
    "- on créé une BDD sqlite  `book_store.db` (ou on se connecte à la base si elle existe déjà) en utilisant la bibliothèque python sqlite3,\n",
    "- on insère les données prétraitées dans la BDD\n",
    "\n",
    "Utiliser le [tutoriel](https://www.ionos.fr/digitalguide/sites-internet/developpement-web/sqlite3-avec-python/) pour l'utilisation de sqlite3.\n",
    "\n",
    "Utiliser la fonction pandas adaptée qui permet d'insérer un dataframe dans une BDD."
   ]
  },
  {
   "cell_type": "code",
   "execution_count": null,
   "id": "9188c10c",
   "metadata": {},
   "outputs": [
    {
     "data": {
      "text/plain": [
       "1000"
      ]
     },
     "execution_count": 132,
     "metadata": {},
     "output_type": "execute_result"
    }
   ],
   "source": [
    "\n",
    "# Création de la BDD et insertion des données\n",
    "connection = sqlite3.connect('book_store.db') # connection à la bdd\n",
    "cursor = connection.cursor() # fonction permettant d'envoyer des requêtes SQL depuis python\n",
    "df_books = pd.read_csv('book_infos_cleaned.csv')\n",
    "if 'Unnamed: 0' in df_books.columns: # Ayant exporter les données en csv sans utiliser index=False, cette ligne permet supprimer l'ajout d'un nouvel index\n",
    "    df_books = df_books.drop(columns=['Unnamed: 0'])\n",
    "\n",
    "cursor.execute(\"\"\"\n",
    "CREATE TABLE IF NOT EXISTS book (\n",
    "               book_id INTEGER PRIMARY KEY AUTOINCREMENT,\n",
    "               title TEXT,\n",
    "               price DECIMAL,\n",
    "               availability BOOLEAN,\n",
    "               rating INT [0:5]\n",
    "               ) \n",
    "\"\"\")\n",
    "connection.commit()\n",
    "df_books.to_sql(\n",
    "    name='book',\n",
    "    con=connection,\n",
    "    if_exists='append',\n",
    "    index=False,\n",
    ")\n",
    "\n",
    "connection.close()\n"
   ]
  },
  {
   "cell_type": "code",
   "execution_count": 131,
   "id": "6fc09e6a",
   "metadata": {},
   "outputs": [
    {
     "data": {
      "text/plain": [
       "<sqlite3.Cursor at 0x73f4599a5440>"
      ]
     },
     "execution_count": 131,
     "metadata": {},
     "output_type": "execute_result"
    }
   ],
   "source": [
    "cursor.execute(\"DROP TABLE IF EXISTS book\")"
   ]
  },
  {
   "cell_type": "markdown",
   "id": "3e34bcf5",
   "metadata": {},
   "source": [
    "Vérifier le nombre de livres présents dans la BDD en utilisant sqlite3 et la requête SQL adaptée."
   ]
  },
  {
   "cell_type": "code",
   "execution_count": 124,
   "id": "5671f153",
   "metadata": {},
   "outputs": [
    {
     "name": "stdout",
     "output_type": "stream",
     "text": [
      "Nombre total de livres :  1000\n"
     ]
    }
   ],
   "source": [
    "# Compter le nombre de livre dans la BDD\n",
    "cursor.execute(\"SELECT COUNT(book_id) from book\")\n",
    "resultat = cursor.fetchone() # retourne le 1er résultat\n",
    "print(f'Nombre total de livres :  {resultat[0]}') # Affichage du résultat\n",
    "\n",
    "connection.commit()\n",
    "connection.close()"
   ]
  }
 ],
 "metadata": {
  "kernelspec": {
   "display_name": ".venv",
   "language": "python",
   "name": "python3"
  },
  "language_info": {
   "codemirror_mode": {
    "name": "ipython",
    "version": 3
   },
   "file_extension": ".py",
   "mimetype": "text/x-python",
   "name": "python",
   "nbconvert_exporter": "python",
   "pygments_lexer": "ipython3",
   "version": "3.12.3"
  }
 },
 "nbformat": 4,
 "nbformat_minor": 5
}
