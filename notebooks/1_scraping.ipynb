{
 "cells": [
  {
   "cell_type": "markdown",
   "id": "9d3e66b1",
   "metadata": {},
   "source": [
    "# Scraping de données\n",
    "L'objectif de ce notebook est de découvrir la bibliothèque python _BeautifulSoup_ en scrapant les données du site http://books.toscrape.com/.\n",
    "\n",
    "- _BeautifulSoup_ est une bibliothèque Python permettant d’extraire facilement des données de documents HTML ou XML. \n",
    "- Elle est généralement utilisée avec la biliothèque _requests_ pour récupérer le contenu d'une page web, puis pour parcourir ou extraire des éléments HTML (balises, attributs, texte...).\n",
    "\n",
    "Les commentaires de code sont proposés pour l'instant en français mais les noms de variables sont en anglais (vous serez amener dans la suite de la formation à travailler en anglais comme c'est souvent le cas dans le milieu professionnel)."
   ]
  },
  {
   "cell_type": "code",
   "execution_count": 2,
   "id": "978d9037",
   "metadata": {},
   "outputs": [],
   "source": [
    "import requests\n",
    "from bs4 import BeautifulSoup\n",
    "import pandas as pd"
   ]
  },
  {
   "cell_type": "markdown",
   "id": "12bf2a1e",
   "metadata": {},
   "source": [
    "## 1. Parsing du HTML avec BeautifulSoup"
   ]
  },
  {
   "cell_type": "code",
   "execution_count": 3,
   "id": "905b3df7",
   "metadata": {},
   "outputs": [
    {
     "name": "stdout",
     "output_type": "stream",
     "text": [
      "<!DOCTYPE html>\n",
      "<!--[if lt IE 7]>      <html lang=\"en-us\" class=\"no-js lt-ie9 lt-ie8 lt-ie7\"> <![endif]-->\n",
      "<!--[if IE 7]>         <html lang=\"en-us\" class=\"no-js lt-ie9 lt-ie8\"> <![endif]-->\n",
      "<!--[if IE 8]>         <html lang=\"en-us\" class=\"no-js lt-ie9\"> <![endif]-->\n",
      "<!--[if gt IE 8]><!-->\n",
      "<html class=\"no-js\" lang=\"en-us\">\n",
      " <!--<![endif]-->\n",
      " <head>\n",
      "  <title>\n",
      "   All products | Books to Scrape - Sandbox\n",
      "  </title>\n",
      "  <meta content=\"text/html; charset=utf-8\" http-equiv=\"content-type\"/>\n",
      "  <meta content=\"24th Jun 2016 09:29\" name=\"created\"/>\n",
      "  <meta content=\"\" name=\"description\"/>\n",
      "  <meta content=\"width=device-width\" name=\"viewport\"/>\n",
      "  <meta content=\"NOARCHIVE,NOCACHE\" name=\"robots\"/>\n",
      "  <!-- Le HTML5 shim, for IE6-8 support of HTML elements -->\n",
      "  <!--[if lt IE 9]>\n",
      "        <script src=\"//html5shim.googlecode.com/svn/trunk/html5.js\"></script>\n",
      "        <![endif]-->\n",
      "  <link href=\"static/oscar/favicon.ico\" rel=\"shortcut icon\"/>\n",
      "  <link href=\"static/oscar/css/styles.css\" rel=\"stylesheet\" type=\"tex\n"
     ]
    }
   ],
   "source": [
    "# On récupère le contenu HTML d’une page\n",
    "url = \"http://books.toscrape.com/\"\n",
    "response = requests.get(url)\n",
    "\n",
    "# On stocke le contenu HTML dans une variable\n",
    "html_content = response.content\n",
    "\n",
    "# On crée un objet BeautifulSoup pour parser le HTML\n",
    "soup = BeautifulSoup(html_content, \"html.parser\")\n",
    "\n",
    "# Affichage des mille premier caractères du HTML formaté\n",
    "print(soup.prettify()[:1000])"
   ]
  },
  {
   "cell_type": "markdown",
   "id": "7cde18cb",
   "metadata": {},
   "source": [
    "`soup` est un objet BeautifulSoup qui permet de naviguer dans la structure HTML comme si c’était un arbre.\n",
    "On peut ensuite faire des recherches sur les balises, les classes, les attributs, etc.\n",
    "\n",
    "Sur le site web, ouvrir l'inspecteur pour comprendre ce que retournent les requêtes ci-dessous :"
   ]
  },
  {
   "cell_type": "code",
   "execution_count": 4,
   "id": "3d735482",
   "metadata": {},
   "outputs": [
    {
     "name": "stdout",
     "output_type": "stream",
     "text": [
      "<title>\n",
      "    All products | Books to Scrape - Sandbox\n",
      "</title>\n"
     ]
    }
   ],
   "source": [
    "# Affiche la balise <title>...</title>\n",
    "print(soup.title)"
   ]
  },
  {
   "cell_type": "code",
   "execution_count": 5,
   "id": "28a121ae",
   "metadata": {},
   "outputs": [
    {
     "name": "stdout",
     "output_type": "stream",
     "text": [
      "\n",
      "    All products | Books to Scrape - Sandbox\n",
      "\n"
     ]
    }
   ],
   "source": [
    "# On accède à la balise <title> et on l'affiche\n",
    "print(soup.title.text)"
   ]
  },
  {
   "cell_type": "code",
   "execution_count": 6,
   "id": "0c1091c3",
   "metadata": {},
   "outputs": [
    {
     "name": "stdout",
     "output_type": "stream",
     "text": [
      "<h1>All products</h1>\n"
     ]
    }
   ],
   "source": [
    "# On accède à la balise <h1> et on l'affiche\n",
    "print(soup.find(\"h1\")) "
   ]
  },
  {
   "cell_type": "code",
   "execution_count": 7,
   "id": "19d1b4e3",
   "metadata": {},
   "outputs": [
    {
     "name": "stdout",
     "output_type": "stream",
     "text": [
      "<article class=\"product_pod\">\n",
      "<div class=\"image_container\">\n",
      "<a href=\"catalogue/a-light-in-the-attic_1000/index.html\"><img alt=\"A Light in the Attic\" class=\"thumbnail\" src=\"media/cache/2c/da/2cdad67c44b002e7ead0cc35693c0e8b.jpg\"/></a>\n",
      "</div>\n",
      "<p class=\"star-rating Three\">\n",
      "<i class=\"icon-star\"></i>\n",
      "<i class=\"icon-star\"></i>\n",
      "<i class=\"icon-star\"></i>\n",
      "<i class=\"icon-star\"></i>\n",
      "<i class=\"icon-star\"></i>\n",
      "</p>\n",
      "<h3><a href=\"catalogue/a-light-in-the-attic_1000/index.html\" title=\"A Light in the Attic\">A Light in the ...</a></h3>\n",
      "<div class=\"product_price\">\n",
      "<p class=\"price_color\">£51.77</p>\n",
      "<p class=\"instock availability\">\n",
      "<i class=\"icon-ok\"></i>\n",
      "    \n",
      "        In stock\n",
      "    \n",
      "</p>\n",
      "<form>\n",
      "<button class=\"btn btn-primary btn-block\" data-loading-text=\"Adding...\" type=\"submit\">Add to basket</button>\n",
      "</form>\n",
      "</div>\n",
      "</article>\n"
     ]
    }
   ],
   "source": [
    "# Récupérer tous les titres de livres de la page d’accueil\n",
    "\n",
    "# Chaque livre est dans une balise <article class=\"product_pod\">\n",
    "# On utilise find_all pour trouver toutes les balises correspondantes\n",
    "# On peut ensuite accéder aux informations de chaque livre\n",
    "books = soup.find_all(\"article\", class_=\"product_pod\")\n",
    "\n",
    "# On affiche les informations récoltées sur le premier livre de la liste\n",
    "first_book = books[0]\n",
    "print(first_book)"
   ]
  },
  {
   "cell_type": "markdown",
   "id": "6f7c6cea",
   "metadata": {},
   "source": [
    "Ouvrir l'inspecteur dans votre navigateur pour chercher **quelle balise HTML** contient le titre des livres.\n",
    "\n",
    "Compléter les cellules de la suite du notebook en suivant les indications en commentaires."
   ]
  },
  {
   "cell_type": "code",
   "execution_count": 8,
   "id": "bcf37c09",
   "metadata": {},
   "outputs": [
    {
     "name": "stdout",
     "output_type": "stream",
     "text": [
      "A Light in the Attic\n"
     ]
    }
   ],
   "source": [
    "# On affiche le titre du premier livre\n",
    "# Recherche des titres h3\n",
    "title_h3 = soup.find('h3')\n",
    "# Utilisation de find pour pointer vers le 1er livre inclus dans la balise <a> et référence à la classe 'title' \n",
    "title_first_book = title_h3.find('a')['title']\n",
    "print(title_first_book)"
   ]
  },
  {
   "cell_type": "code",
   "execution_count": 9,
   "id": "343da911",
   "metadata": {},
   "outputs": [
    {
     "name": "stdout",
     "output_type": "stream",
     "text": [
      "A Light in the Attic\n",
      "Tipping the Velvet\n",
      "Soumission\n",
      "Sharp Objects\n",
      "Sapiens: A Brief History of Humankind\n",
      "The Requiem Red\n",
      "The Dirty Little Secrets of Getting Your Dream Job\n",
      "The Coming Woman: A Novel Based on the Life of the Infamous Feminist, Victoria Woodhull\n",
      "The Boys in the Boat: Nine Americans and Their Epic Quest for Gold at the 1936 Berlin Olympics\n",
      "The Black Maria\n",
      "Starving Hearts (Triangular Trade Trilogy, #1)\n",
      "Shakespeare's Sonnets\n",
      "Set Me Free\n",
      "Scott Pilgrim's Precious Little Life (Scott Pilgrim #1)\n",
      "Rip it Up and Start Again\n",
      "Our Band Could Be Your Life: Scenes from the American Indie Underground, 1981-1991\n",
      "Olio\n",
      "Mesaerion: The Best Science Fiction Stories 1800-1849\n",
      "Libertarianism for Beginners\n",
      "It's Only the Himalayas\n"
     ]
    }
   ],
   "source": [
    "# On parcourt la liste des livres et on affiche le titre de chacun\n",
    "for book in books:\n",
    "    title = book.find('h3').find('a')['title'] # Recherche des balises <h3> et <a> de la liste des livres \n",
    "    print(title)\n"
   ]
  },
  {
   "cell_type": "markdown",
   "id": "57833cb1",
   "metadata": {},
   "source": [
    "Si l'on souhaite travailler sur cette liste de titres, on pourrait les ajouter à une liste vide à chaque itération de la boucle for ci-dessus.\n",
    "\n",
    "On peut également utiliser la compréhension de liste. C'est une pratique courante en python car plus concise et explicite, en particulier lorsqu'il y a plusieurs boucles _for_ imbriquées qui deviennent difficile à lire.\n",
    "\n",
    "En utilisant la [compréhension de liste](https://www.pythoniste.fr/python/comprendre-les-comprehensions-en-python/), créer une liste contenant les titres des livres récupérés dans la variable books.\n"
   ]
  },
  {
   "cell_type": "code",
   "execution_count": 10,
   "id": "bececb84",
   "metadata": {},
   "outputs": [
    {
     "name": "stdout",
     "output_type": "stream",
     "text": [
      "['A Light in the Attic', 'Tipping the Velvet', 'Soumission', 'Sharp Objects', 'Sapiens: A Brief History of Humankind', 'The Requiem Red', 'The Dirty Little Secrets of Getting Your Dream Job', 'The Coming Woman: A Novel Based on the Life of the Infamous Feminist, Victoria Woodhull', 'The Boys in the Boat: Nine Americans and Their Epic Quest for Gold at the 1936 Berlin Olympics', 'The Black Maria', 'Starving Hearts (Triangular Trade Trilogy, #1)', \"Shakespeare's Sonnets\", 'Set Me Free', \"Scott Pilgrim's Precious Little Life (Scott Pilgrim #1)\", 'Rip it Up and Start Again', 'Our Band Could Be Your Life: Scenes from the American Indie Underground, 1981-1991', 'Olio', 'Mesaerion: The Best Science Fiction Stories 1800-1849', 'Libertarianism for Beginners', \"It's Only the Himalayas\"]\n"
     ]
    }
   ],
   "source": [
    "# Liste des titres de livres en utilisant la compréhension de liste\n",
    "titles_list = [book.find('h3').find('a')['title'] for book in soup.find_all('article', class_='product_pod')]\n",
    "print(titles_list)"
   ]
  },
  {
   "cell_type": "markdown",
   "id": "fe403472",
   "metadata": {},
   "source": [
    "Afficher le nombre de livres trouvés sur la page d'accueil."
   ]
  },
  {
   "cell_type": "code",
   "execution_count": 11,
   "id": "9504fb14",
   "metadata": {},
   "outputs": [
    {
     "name": "stdout",
     "output_type": "stream",
     "text": [
      "Nombre de livres trouvés : 20\n"
     ]
    }
   ],
   "source": [
    "# Nombre de livres trouvés\n",
    "books_nb = len(titles_list)\n",
    "print(f\"Nombre de livres trouvés : {books_nb}\")"
   ]
  },
  {
   "cell_type": "markdown",
   "id": "aa7d3999",
   "metadata": {},
   "source": [
    "Chercher les balises HTML permettant d'afficher les informations suivantes : "
   ]
  },
  {
   "cell_type": "code",
   "execution_count": 12,
   "id": "8a372935",
   "metadata": {},
   "outputs": [
    {
     "name": "stdout",
     "output_type": "stream",
     "text": [
      "Prix du premier livre : £51.77\n"
     ]
    }
   ],
   "source": [
    "# Prix du premier livre\n",
    "price_first_book = soup.find('p', class_='price_color').text\n",
    "print(f\"Prix du premier livre : {price_first_book}\")"
   ]
  },
  {
   "cell_type": "markdown",
   "id": "4b6c6954",
   "metadata": {},
   "source": [
    "Afficher la note (_rating_) du premier livre."
   ]
  },
  {
   "cell_type": "code",
   "execution_count": 13,
   "id": "9c217cae",
   "metadata": {},
   "outputs": [
    {
     "name": "stdout",
     "output_type": "stream",
     "text": [
      "Note du premier livre : Three\n"
     ]
    }
   ],
   "source": [
    "# Afficher la note (rating) du premier livre\n",
    "\n",
    "rating_tag = soup.find('p', class_='star-rating')['class'][1] # Extraction des balises contenant la note\n",
    "# rating_first_book = rating_tag['class'] # On vise la note du premier livre\n",
    "print(f\"Note du premier livre : {rating_tag}\")"
   ]
  },
  {
   "cell_type": "markdown",
   "id": "7240c183",
   "metadata": {},
   "source": [
    "Compléter la cellule suivante en s'inspirant du modèle ci-dessus."
   ]
  },
  {
   "cell_type": "code",
   "execution_count": 14,
   "id": "f97f6c43",
   "metadata": {},
   "outputs": [
    {
     "name": "stdout",
     "output_type": "stream",
     "text": [
      "Titre : A Light in the Attic, Prix : £51.77, Disponibilité : \n",
      "\n",
      "    \n",
      "        In stock\n",
      "    \n",
      "\n",
      "Titre : Tipping the Velvet, Prix : £53.74, Disponibilité : \n",
      "\n",
      "    \n",
      "        In stock\n",
      "    \n",
      "\n",
      "Titre : Soumission, Prix : £50.10, Disponibilité : \n",
      "\n",
      "    \n",
      "        In stock\n",
      "    \n",
      "\n",
      "Titre : Sharp Objects, Prix : £47.82, Disponibilité : \n",
      "\n",
      "    \n",
      "        In stock\n",
      "    \n",
      "\n",
      "Titre : Sapiens: A Brief History of Humankind, Prix : £54.23, Disponibilité : \n",
      "\n",
      "    \n",
      "        In stock\n",
      "    \n",
      "\n",
      "Titre : The Requiem Red, Prix : £22.65, Disponibilité : \n",
      "\n",
      "    \n",
      "        In stock\n",
      "    \n",
      "\n",
      "Titre : The Dirty Little Secrets of Getting Your Dream Job, Prix : £33.34, Disponibilité : \n",
      "\n",
      "    \n",
      "        In stock\n",
      "    \n",
      "\n",
      "Titre : The Coming Woman: A Novel Based on the Life of the Infamous Feminist, Victoria Woodhull, Prix : £17.93, Disponibilité : \n",
      "\n",
      "    \n",
      "        In stock\n",
      "    \n",
      "\n",
      "Titre : The Boys in the Boat: Nine Americans and Their Epic Quest for Gold at the 1936 Berlin Olympics, Prix : £22.60, Disponibilité : \n",
      "\n",
      "    \n",
      "        In stock\n",
      "    \n",
      "\n",
      "Titre : The Black Maria, Prix : £52.15, Disponibilité : \n",
      "\n",
      "    \n",
      "        In stock\n",
      "    \n",
      "\n",
      "Titre : Starving Hearts (Triangular Trade Trilogy, #1), Prix : £13.99, Disponibilité : \n",
      "\n",
      "    \n",
      "        In stock\n",
      "    \n",
      "\n",
      "Titre : Shakespeare's Sonnets, Prix : £20.66, Disponibilité : \n",
      "\n",
      "    \n",
      "        In stock\n",
      "    \n",
      "\n",
      "Titre : Set Me Free, Prix : £17.46, Disponibilité : \n",
      "\n",
      "    \n",
      "        In stock\n",
      "    \n",
      "\n",
      "Titre : Scott Pilgrim's Precious Little Life (Scott Pilgrim #1), Prix : £52.29, Disponibilité : \n",
      "\n",
      "    \n",
      "        In stock\n",
      "    \n",
      "\n",
      "Titre : Rip it Up and Start Again, Prix : £35.02, Disponibilité : \n",
      "\n",
      "    \n",
      "        In stock\n",
      "    \n",
      "\n",
      "Titre : Our Band Could Be Your Life: Scenes from the American Indie Underground, 1981-1991, Prix : £57.25, Disponibilité : \n",
      "\n",
      "    \n",
      "        In stock\n",
      "    \n",
      "\n",
      "Titre : Olio, Prix : £23.88, Disponibilité : \n",
      "\n",
      "    \n",
      "        In stock\n",
      "    \n",
      "\n",
      "Titre : Mesaerion: The Best Science Fiction Stories 1800-1849, Prix : £37.59, Disponibilité : \n",
      "\n",
      "    \n",
      "        In stock\n",
      "    \n",
      "\n",
      "Titre : Libertarianism for Beginners, Prix : £51.33, Disponibilité : \n",
      "\n",
      "    \n",
      "        In stock\n",
      "    \n",
      "\n",
      "Titre : It's Only the Himalayas, Prix : £45.17, Disponibilité : \n",
      "\n",
      "    \n",
      "        In stock\n",
      "    \n",
      "\n"
     ]
    }
   ],
   "source": [
    "# Pour chaque livre, on souhaite afficher : le prix, le titre et la disponibilité\n",
    "# Tentative 1\n",
    "for book in books:\n",
    "    title_tag = book.find('h3').find('a')\n",
    "    title = title_tag['title']\n",
    "    price_tag = book.find('p', class_='price_color').text\n",
    "    price = price_tag\n",
    "    availability_tag = book.find('p', class_='instock availability').text\n",
    "    availability = availability_tag\n",
    "    print(f\"Titre : {title}, Prix : {price}, Disponibilité : {availability}\")"
   ]
  },
  {
   "cell_type": "code",
   "execution_count": 15,
   "id": "28d78b73",
   "metadata": {},
   "outputs": [
    {
     "name": "stdout",
     "output_type": "stream",
     "text": [
      "Titre : A Light in the Attic, Prix : £51.77, Disponibilité : \n",
      "\n",
      "    \n",
      "        In stock\n",
      "    \n",
      "\n",
      "Titre : Tipping the Velvet, Prix : £53.74, Disponibilité : \n",
      "\n",
      "    \n",
      "        In stock\n",
      "    \n",
      "\n",
      "Titre : Soumission, Prix : £50.10, Disponibilité : \n",
      "\n",
      "    \n",
      "        In stock\n",
      "    \n",
      "\n",
      "Titre : Sharp Objects, Prix : £47.82, Disponibilité : \n",
      "\n",
      "    \n",
      "        In stock\n",
      "    \n",
      "\n",
      "Titre : Sapiens: A Brief History of Humankind, Prix : £54.23, Disponibilité : \n",
      "\n",
      "    \n",
      "        In stock\n",
      "    \n",
      "\n",
      "Titre : The Requiem Red, Prix : £22.65, Disponibilité : \n",
      "\n",
      "    \n",
      "        In stock\n",
      "    \n",
      "\n",
      "Titre : The Dirty Little Secrets of Getting Your Dream Job, Prix : £33.34, Disponibilité : \n",
      "\n",
      "    \n",
      "        In stock\n",
      "    \n",
      "\n",
      "Titre : The Coming Woman: A Novel Based on the Life of the Infamous Feminist, Victoria Woodhull, Prix : £17.93, Disponibilité : \n",
      "\n",
      "    \n",
      "        In stock\n",
      "    \n",
      "\n",
      "Titre : The Boys in the Boat: Nine Americans and Their Epic Quest for Gold at the 1936 Berlin Olympics, Prix : £22.60, Disponibilité : \n",
      "\n",
      "    \n",
      "        In stock\n",
      "    \n",
      "\n",
      "Titre : The Black Maria, Prix : £52.15, Disponibilité : \n",
      "\n",
      "    \n",
      "        In stock\n",
      "    \n",
      "\n",
      "Titre : Starving Hearts (Triangular Trade Trilogy, #1), Prix : £13.99, Disponibilité : \n",
      "\n",
      "    \n",
      "        In stock\n",
      "    \n",
      "\n",
      "Titre : Shakespeare's Sonnets, Prix : £20.66, Disponibilité : \n",
      "\n",
      "    \n",
      "        In stock\n",
      "    \n",
      "\n",
      "Titre : Set Me Free, Prix : £17.46, Disponibilité : \n",
      "\n",
      "    \n",
      "        In stock\n",
      "    \n",
      "\n",
      "Titre : Scott Pilgrim's Precious Little Life (Scott Pilgrim #1), Prix : £52.29, Disponibilité : \n",
      "\n",
      "    \n",
      "        In stock\n",
      "    \n",
      "\n",
      "Titre : Rip it Up and Start Again, Prix : £35.02, Disponibilité : \n",
      "\n",
      "    \n",
      "        In stock\n",
      "    \n",
      "\n",
      "Titre : Our Band Could Be Your Life: Scenes from the American Indie Underground, 1981-1991, Prix : £57.25, Disponibilité : \n",
      "\n",
      "    \n",
      "        In stock\n",
      "    \n",
      "\n",
      "Titre : Olio, Prix : £23.88, Disponibilité : \n",
      "\n",
      "    \n",
      "        In stock\n",
      "    \n",
      "\n",
      "Titre : Mesaerion: The Best Science Fiction Stories 1800-1849, Prix : £37.59, Disponibilité : \n",
      "\n",
      "    \n",
      "        In stock\n",
      "    \n",
      "\n",
      "Titre : Libertarianism for Beginners, Prix : £51.33, Disponibilité : \n",
      "\n",
      "    \n",
      "        In stock\n",
      "    \n",
      "\n",
      "Titre : It's Only the Himalayas, Prix : £45.17, Disponibilité : \n",
      "\n",
      "    \n",
      "        In stock\n",
      "    \n",
      "\n"
     ]
    }
   ],
   "source": [
    "# Tentative 2\n",
    "for book in books:\n",
    "    title = book.find('h3').find('a')['title']\n",
    "    price = book.find('p', class_='price_color').text\n",
    "    availability = book.find('p',class_='instock availability').text\n",
    "    print(f\"Titre : {title}, Prix : {price}, Disponibilité : {availability}\")"
   ]
  },
  {
   "cell_type": "markdown",
   "id": "f18b886c",
   "metadata": {},
   "source": [
    "---\n",
    "## 2. Fonctions python d'extraction des données\n",
    "\n",
    "**Généralités**\n",
    "\n",
    "Une fonction est une portion de code effectuant une suite d'instructions. \n",
    "\n",
    "Chaque fonction effectue en général une tâche unique et précise. Si cela se complique, il est plus judicieux d'écrire plusieurs fonctions (qui peuvent éventuellement s'appeler les unes les autres).\n",
    "\n",
    "`def` permet de definir la fonction.\n",
    "Si on souhaite que la fonction renvoie quelque chose, il faut utiliser le mot-clé `return`.\n",
    "On utilise des docstrings (=documentation) sous le format \"\"\" Explications de la fonction \"\"\" qui fournit des informations sur ce que fait la fonction, quelles sont les paramètres d'entrée (Args) et que renvoie la fonction (Returns).\n",
    "\n",
    "--> [Ressources fonctions python](https://python.sdv.u-paris.fr/10_fonctions/)\n",
    "\n",
    "---\n",
    "\n",
    "En suivant les documentations de fonction et en utilisant le travail de la partie précédente, implémenter les fonctions permettant d'extraire les informations des livres.\n",
    "\n",
    "\n",
    "\n",
    "**Note**\n",
    "\n",
    "Un Ctrl+clic sur le nom de n'importe quelle fonction vous emmène à la définition de cette fonction.\n"
   ]
  },
  {
   "cell_type": "code",
   "execution_count": 16,
   "id": "03144818",
   "metadata": {},
   "outputs": [],
   "source": [
    "# Fonction pour extraire le titre d'un livre\n",
    "def extract_title(book: BeautifulSoup) -> str:\n",
    "    \"\"\"Extract the title of a book from a BeautifulSoup object.\n",
    "\n",
    "    Args:\n",
    "        book (BeautifulSoup): The HTML element of the book.\n",
    "\n",
    "    Returns:\n",
    "        str: The title of the book.\n",
    "    \"\"\"\n",
    "    return book.find('h3').find('a')['title']\n"
   ]
  },
  {
   "cell_type": "code",
   "execution_count": 17,
   "id": "ade70bc7",
   "metadata": {},
   "outputs": [
    {
     "name": "stdout",
     "output_type": "stream",
     "text": [
      "£33.34\n"
     ]
    }
   ],
   "source": [
    "# Fonction pour extraire le prix d'un livre\n",
    "def extract_price(book: BeautifulSoup) -> str:\n",
    "        \"\"\"Extract the price of a book from a BeautifulSoup object.\n",
    "\n",
    "    Args:\n",
    "        book (BeautifulSoup): The HTML element of the book.\n",
    "\n",
    "    Returns:\n",
    "        str: The price of the book.\n",
    "\n",
    "    \"\"\"\n",
    "        return book.find('p', class_='price_color').text\n",
    "\n",
    "print(extract_price(books[6]))"
   ]
  },
  {
   "cell_type": "code",
   "execution_count": 18,
   "id": "6e1fb522",
   "metadata": {},
   "outputs": [
    {
     "name": "stdout",
     "output_type": "stream",
     "text": [
      "One\n"
     ]
    }
   ],
   "source": [
    "# Fonction pour extraire la note d'un livre\n",
    "def extract_rating(book: BeautifulSoup) -> str:\n",
    "        \"\"\"Extract the rating of a book from a BeautifulSoup object.\n",
    "\n",
    "    Args:\n",
    "        book (BeautifulSoup): The HTML element of the book.\n",
    "\n",
    "    Returns:\n",
    "        str: The rating of the book.\n",
    "    \"\"\"\n",
    "        return book.find('p', class_='star-rating')['class'][1]\n",
    "    \n",
    "print(extract_rating(books[5]))\n",
    "\n"
   ]
  },
  {
   "cell_type": "code",
   "execution_count": 19,
   "id": "a2561562",
   "metadata": {},
   "outputs": [
    {
     "name": "stdout",
     "output_type": "stream",
     "text": [
      "In stock\n"
     ]
    }
   ],
   "source": [
    "# Fonction pour extraire la disponibilité d'un livre\n",
    "def extract_availability(book: BeautifulSoup) -> str:\n",
    "        \"\"\"Extract the availability of a book from a BeautifulSoup object.\n",
    "\n",
    "    Args:\n",
    "        book (BeautifulSoup): The HTML element of the book.\n",
    "\n",
    "    Returns:\n",
    "        str: The availability of the book.\n",
    "    \"\"\"\n",
    "        return book.find('p', class_='instock availability').text.strip()\n",
    "\n",
    "print(extract_availability(books[7]))"
   ]
  },
  {
   "cell_type": "markdown",
   "id": "465ca098",
   "metadata": {},
   "source": [
    "Créer une fonction qui combine les informations d'un livre dans un dictionnaire sous la forme :\n",
    " \n",
    " {\n",
    "    \"title\": \"Titre du livre\",\n",
    "     \"price\": \"Prix du livre\",\n",
    "     \"rating\": \"Note du livre\",\n",
    "     \"availability\": \"Disponibilité du livre\"\n",
    " }"
   ]
  },
  {
   "cell_type": "code",
   "execution_count": 20,
   "id": "4a52ab5f",
   "metadata": {},
   "outputs": [
    {
     "name": "stdout",
     "output_type": "stream",
     "text": [
      "{'title': 'Sharp Objects', 'price': '£47.82', 'rating': 'Four', 'availability': 'In stock'}\n"
     ]
    }
   ],
   "source": [
    "# Fonction qui combine les informations d'un livre dans un dictionnaire\n",
    "def extract_book_info(book: BeautifulSoup) -> dict:\n",
    "        \"\"\"Extract all information of a book from a BeautifulSoup object.\n",
    "\n",
    "    Args:\n",
    "        book (BeautifulSoup): The HTML element of the book.\n",
    "\n",
    "    Returns:\n",
    "        dict: A dictionary containing the title, price, rating, and availability of the book.\n",
    "    \"\"\"\n",
    "        livre = {\n",
    "            'title': extract_title(book),\n",
    "            'price': extract_price(book),\n",
    "            'rating': extract_rating(book),\n",
    "            'availability': extract_availability(book)\n",
    "        }\n",
    "        return livre\n",
    "\n",
    "print(extract_book_info(books[3]))\n"
   ]
  },
  {
   "cell_type": "markdown",
   "id": "2ff1821c",
   "metadata": {},
   "source": [
    "\n",
    "En utilisant :\n",
    "- la fonction `extract_book_info` implémentée ci-dessus,\n",
    "- la [compréhension de liste](https://www.pythoniste.fr/python/comprendre-les-comprehensions-en-python/)\n",
    "\n",
    "créer une liste `data_books` qui contient des dictionnaires décrivant les informations disponibles pour chaque livres, sous la forme :\n",
    "\n",
    "```\n",
    "[\n",
    "    {\"title\": \"A Light in the ...\", \"price\": \"£51.77\", \"availability\": \"In stock\"},\n",
    "    {\"title\": \"Tipping the Velvet\", \"price\": \"£53.74\", \"availability\": \"In stock\"},\n",
    "    ...\n",
    "]\n",
    "```"
   ]
  },
  {
   "cell_type": "code",
   "execution_count": 21,
   "id": "27ef3a24",
   "metadata": {},
   "outputs": [
    {
     "name": "stdout",
     "output_type": "stream",
     "text": [
      "[{'title': 'A Light in the Attic', 'price': '£51.77', 'rating': 'Three', 'availability': 'In stock'}, {'title': 'Tipping the Velvet', 'price': '£53.74', 'rating': 'One', 'availability': 'In stock'}, {'title': 'Soumission', 'price': '£50.10', 'rating': 'One', 'availability': 'In stock'}, {'title': 'Sharp Objects', 'price': '£47.82', 'rating': 'Four', 'availability': 'In stock'}, {'title': 'Sapiens: A Brief History of Humankind', 'price': '£54.23', 'rating': 'Five', 'availability': 'In stock'}]\n"
     ]
    }
   ],
   "source": [
    "# Création d'une liste de dictionnaires contenant les informations de chaque livre\n",
    "data_books = [extract_book_info(book) for book in books]\n",
    "\n",
    "# Affichage des 5 premiers livres\n",
    "print(data_books[:5]) "
   ]
  },
  {
   "cell_type": "markdown",
   "id": "797666f5",
   "metadata": {},
   "source": [
    "On aurait pu créer la liste de dictionnaires en utilisant une boucle for et en ne passant pas par l'utilisation de fonctions.\n",
    "\n",
    "--> **Il y a toujours de nombreuses manières de coder une solution pour arriver à un même résultat.** \n"
   ]
  },
  {
   "cell_type": "markdown",
   "id": "a2842fdb",
   "metadata": {},
   "source": [
    "Pourquoi on propose ici de segmenter le code dans de très courtes fonctions python ?\n",
    "\n",
    "- Ici le cas d'application est simple donc les fonctions sont très courtes, la méthode utilisée ici s'adapte bien à des structure de données sont plus complexes.\n",
    "\n",
    "- Le code est plus évolutif et maintenable : \n",
    "\n",
    "Chaque structure de données peut évoluer séparément dans le HTML. Si une structure évolue il est simple de mettre à jour une fonction qui extrait cette donnnées plutôt que de devoir chercher dans le code chaque endroit où cette donnée est extraite.\n",
    "\n",
    "\n",
    "- Chaque fonction peut être testée individuellement.\n",
    "- Le code est plus compréhensible pour le lecteur."
   ]
  },
  {
   "cell_type": "markdown",
   "id": "2e93a726",
   "metadata": {},
   "source": [
    "Utiliser pandas pour afficher _data_books_ dans un dataframe."
   ]
  },
  {
   "cell_type": "code",
   "execution_count": 22,
   "id": "5ae930a2",
   "metadata": {},
   "outputs": [
    {
     "name": "stdout",
     "output_type": "stream",
     "text": [
      "                                   title   price rating availability\n",
      "0                   A Light in the Attic  £51.77  Three     In stock\n",
      "1                     Tipping the Velvet  £53.74    One     In stock\n",
      "2                             Soumission  £50.10    One     In stock\n",
      "3                          Sharp Objects  £47.82   Four     In stock\n",
      "4  Sapiens: A Brief History of Humankind  £54.23   Five     In stock\n"
     ]
    }
   ],
   "source": [
    "# Création d'un DataFrame à partir de la liste\n",
    "df_books = pd.DataFrame(data_books)\n",
    "\n",
    "# Afficher le début du DataFrame\n",
    "print(df_books.head())"
   ]
  },
  {
   "cell_type": "markdown",
   "id": "71f06599",
   "metadata": {},
   "source": [
    "---\n",
    "## 3. Itération sur plusieurs pages HTML"
   ]
  },
  {
   "cell_type": "markdown",
   "id": "a6c73b2c",
   "metadata": {},
   "source": [
    "Dans la partie précédente, on a scrapé uniquement la page d'accueil.\n",
    "\n",
    "A présent, on souhaite récupérer les données de 50 pages du catalogue.\n",
    "\n",
    "- Implémenter une fonction qui récupère le contenu HTML d'une page à partir de son url (cf partie 1.)\n",
    "- Implémenter une fonction qui crée une liste dictionnaire avec les informations de chaque livres de la page (utiliser la fonction `extract_book_info`)."
   ]
  },
  {
   "cell_type": "code",
   "execution_count": 23,
   "id": "ba4ed1d6",
   "metadata": {},
   "outputs": [],
   "source": [
    "def get_books_html(url: str) -> BeautifulSoup:\n",
    "    \"\"\"Fetch the HTML content of a book page.\n",
    "\n",
    "    Args:\n",
    "        url (str): The URL of the book page.\n",
    "\n",
    "    Returns:\n",
    "        BeautifulSoup: A BeautifulSoup object containing the HTML content.\n",
    "    \"\"\"\n",
    "    \n",
    "    response = requests.get(url)\n",
    "    soup = BeautifulSoup(response.text, 'html.parser')\n",
    "    return soup\n",
    "\n",
    "\n",
    "    "
   ]
  },
  {
   "cell_type": "code",
   "execution_count": null,
   "id": "61dad9a9",
   "metadata": {},
   "outputs": [],
   "source": [
    "# Test de la fonction get_book_html avec la page 2\n",
    "get_books_html(\"http://books.toscrape.com/catalogue/page-2.html\")"
   ]
  },
  {
   "cell_type": "markdown",
   "id": "933ef81f",
   "metadata": {},
   "source": [
    "Naviguer sur le site pour comprendre quel est le format des URL des différentes pages du catalogue.\n"
   ]
  },
  {
   "cell_type": "markdown",
   "id": "0ab19c24",
   "metadata": {},
   "source": [
    "- Créer une variable _base_url_ dans laquelle vous viendrez par la suite mettre à jour la partie qui varie.\n",
    "- Pour chaque page :\n",
    "    - Construire l’URL adapté, \n",
    "    - Utiliser la fonction `get_books_html` pour récupérer les livres de la page,\n",
    "    - Utiliser la compréhension de liste (cf ci-dessus pour créer `data_books`) et la fonction `extract_book_info` pour obtenir une liste de dictionnaire des titres, prix, note et disponibilité des livres contenus dans la page,\n",
    "- Créer une liste qui contiendra tous les dictionnaires scrapés."
   ]
  },
  {
   "cell_type": "code",
   "execution_count": 25,
   "id": "a0d53140",
   "metadata": {},
   "outputs": [],
   "source": [
    "# Parcourir les pages et récupérer les livres\n",
    "\n",
    "def scrape_books(pages: int) -> list[dict]:\n",
    "    \"\"\"Scrape books from the specified number of pages.\n",
    "\n",
    "    Args:\n",
    "        pages (int): The number of pages to scrape.\n",
    "\n",
    "    Returns:\n",
    "        list: A list of dictionaries containing books information.\n",
    "    \"\"\"\n",
    "    base_url = \"http://books.toscrape.com/catalogue/page-{}.html\" # Url de base du catalogue\n",
    "    all_books = [] # Création d'une liste qui contiendra les dictionnaires scrapés\n",
    "    for page_num in range(1, pages +1): # Boucle pour parcourir les pages\n",
    "        url = base_url.format(page_num) # format() permet de substituer une valeur entre accolade, ici c'est le numéro de page dans le base_url\n",
    "        soup = get_books_html(url)\n",
    "        books = soup.find_all('article', class_='product_pod')\n",
    "        data_books = [extract_book_info(book) # comprehensive list qui permet l'extraction des informations\n",
    "                      for book\n",
    "                      in books]\n",
    "        all_books.extend(data_books) # extend() pour ajouter les informations scrapés dans la liste all_books\n",
    "    return all_books\n",
    "    \n",
    "\n"
   ]
  },
  {
   "cell_type": "code",
   "execution_count": 26,
   "id": "37d86eb6",
   "metadata": {},
   "outputs": [
    {
     "name": "stdout",
     "output_type": "stream",
     "text": [
      "[{'title': 'A Light in the Attic', 'price': 'Â£51.77', 'rating': 'Three', 'availability': 'In stock'}, {'title': 'Tipping the Velvet', 'price': 'Â£53.74', 'rating': 'One', 'availability': 'In stock'}, {'title': 'Soumission', 'price': 'Â£50.10', 'rating': 'One', 'availability': 'In stock'}, {'title': 'Sharp Objects', 'price': 'Â£47.82', 'rating': 'Four', 'availability': 'In stock'}, {'title': 'Sapiens: A Brief History of Humankind', 'price': 'Â£54.23', 'rating': 'Five', 'availability': 'In stock'}]\n"
     ]
    }
   ],
   "source": [
    "# Test de la fonction scrape_books avec 50 pages\n",
    "data_books = scrape_books(50)\n",
    "print(scrape_books(50)[:5]) "
   ]
  },
  {
   "cell_type": "markdown",
   "id": "8f43b2f0",
   "metadata": {},
   "source": [
    "Créer un DataFrame avec les données scrapées,"
   ]
  },
  {
   "cell_type": "code",
   "execution_count": 27,
   "id": "d3b9566c",
   "metadata": {},
   "outputs": [
    {
     "name": "stdout",
     "output_type": "stream",
     "text": [
      "                                                 title    price rating  \\\n",
      "0                                 A Light in the Attic  Â£51.77  Three   \n",
      "1                                   Tipping the Velvet  Â£53.74    One   \n",
      "2                                           Soumission  Â£50.10    One   \n",
      "3                                        Sharp Objects  Â£47.82   Four   \n",
      "4                Sapiens: A Brief History of Humankind  Â£54.23   Five   \n",
      "..                                                 ...      ...    ...   \n",
      "995  Alice in Wonderland (Alice's Adventures in Won...  Â£55.53    One   \n",
      "996   Ajin: Demi-Human, Volume 1 (Ajin: Demi-Human #1)  Â£57.06   Four   \n",
      "997  A Spy's Devotion (The Regency Spies of London #1)  Â£16.97   Five   \n",
      "998                1st to Die (Women's Murder Club #1)  Â£53.98    One   \n",
      "999                 1,000 Places to See Before You Die  Â£26.08   Five   \n",
      "\n",
      "    availability  \n",
      "0       In stock  \n",
      "1       In stock  \n",
      "2       In stock  \n",
      "3       In stock  \n",
      "4       In stock  \n",
      "..           ...  \n",
      "995     In stock  \n",
      "996     In stock  \n",
      "997     In stock  \n",
      "998     In stock  \n",
      "999     In stock  \n",
      "\n",
      "[1000 rows x 4 columns]\n"
     ]
    }
   ],
   "source": [
    "# Création d'un DataFrame à partir de la liste\n",
    "df_books = pd.DataFrame(data_books)\n",
    "print(df_books)"
   ]
  },
  {
   "cell_type": "code",
   "execution_count": 28,
   "id": "3ee951f4",
   "metadata": {},
   "outputs": [
    {
     "name": "stdout",
     "output_type": "stream",
     "text": [
      "Nombre de livres scrapés : 1000\n"
     ]
    }
   ],
   "source": [
    "# Nombre de livres scrapés\n",
    "books_nb = len(data_books)\n",
    "print(f\"Nombre de livres scrapés : {books_nb}\")"
   ]
  },
  {
   "cell_type": "markdown",
   "id": "64e6a246",
   "metadata": {},
   "source": [
    "Chercher dans la doc [pandas](https://pandas.pydata.org/docs/) la fonction permettant de sauvegarder les données dans un fichier CSV.\n",
    "\n",
    "Sauvegarder les données dans un fichier _books_infos.csv_\n"
   ]
  },
  {
   "cell_type": "code",
   "execution_count": 29,
   "id": "37c15c3c",
   "metadata": {},
   "outputs": [],
   "source": [
    "# Sauvegarder les données dans un fichier csv\n",
    "df_books.to_csv('books_infos.csv', index=False)"
   ]
  }
 ],
 "metadata": {
  "kernelspec": {
   "display_name": ".venv",
   "language": "python",
   "name": "python3"
  },
  "language_info": {
   "codemirror_mode": {
    "name": "ipython",
    "version": 3
   },
   "file_extension": ".py",
   "mimetype": "text/x-python",
   "name": "python",
   "nbconvert_exporter": "python",
   "pygments_lexer": "ipython3",
   "version": "3.12.3"
  }
 },
 "nbformat": 4,
 "nbformat_minor": 5
}
